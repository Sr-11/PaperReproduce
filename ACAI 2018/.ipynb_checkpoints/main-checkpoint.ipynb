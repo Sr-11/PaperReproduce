{
 "cells": [
  {
   "cell_type": "markdown",
   "id": "b598cae0-9a82-4d5c-9877-d978261d059a",
   "metadata": {},
   "source": [
    "### Import packages"
   ]
  },
  {
   "cell_type": "code",
   "execution_count": 37,
   "id": "fd33f101-6792-42b2-8984-f9495af87e52",
   "metadata": {},
   "outputs": [],
   "source": [
    "import numpy as np\n",
    "import tensorflow as tf\n",
    "import math\n",
    "import matplotlib.pyplot as plt\n",
    "from IPython.display import clear_output\n"
   ]
  },
  {
   "cell_type": "code",
   "execution_count": null,
   "id": "18d449d6-accb-47f1-b8f2-5c762e7a9e46",
   "metadata": {},
   "outputs": [],
   "source": [
    "import scipy.io\n",
    "from tqdm import trange, tqdm\n",
    "from absl import app\n",
    "from absl import flags\n",
    "import collections\n",
    "import gzip\n",
    "import tarfile\n",
    "import tempfile\n",
    "import urllib\n",
    "import zipfile"
   ]
  },
  {
   "cell_type": "code",
   "execution_count": 2,
   "id": "c47bade6-fe44-4f10-b99a-66c9fa83238c",
   "metadata": {},
   "outputs": [],
   "source": [
    "import os\n",
    "os.environ['AE_DATA'] = '/math/home/eruisun/github/PaperReproduce/ACAI\\ 2018/Data'"
   ]
  },
  {
   "cell_type": "code",
   "execution_count": 3,
   "id": "c32a928d-a70e-445d-8701-feee2d90f237",
   "metadata": {},
   "outputs": [],
   "source": [
    "os.environ[\"CUDA_VISIBLE_DEVICES\"]=\"5\"\n",
    "from lib.data import DATA_DIR"
   ]
  },
  {
   "cell_type": "markdown",
   "id": "b833af1c-0c4b-456b-9fe3-871562175aaf",
   "metadata": {},
   "source": [
    "# Lines dataset"
   ]
  },
  {
   "cell_type": "code",
   "execution_count": 23,
   "id": "e42724f2-4a79-48f2-aa11-f9b3d7c1bc34",
   "metadata": {},
   "outputs": [],
   "source": [
    "def draw_line(angle, height, width, w=2.):\n",
    "    m = np.zeros((height, width, 1))\n",
    "    x0 = height*0.5\n",
    "    y0 = width*0.5\n",
    "    x1 = x0 + (x0 - 1) * math.cos(-angle)\n",
    "    y1 = y0 + (y0 - 1) * math.sin(-angle)\n",
    "    flip = False\n",
    "    if abs(y0 - y1) < abs(x0 - x1):\n",
    "        x0, x1, y0, y1 = y0, y1, x0, x1\n",
    "        flip = True\n",
    "    if y1 < y0:\n",
    "        x0, x1, y0, y1 = x1, x0, y1, y0\n",
    "    x0, x1 = x0 - w / 2, x1 - w / 2\n",
    "    dx = x1 - x0\n",
    "    dy = y1 - y0\n",
    "    ds = dx / dy if dy != 0 else 0\n",
    "    yi = int(math.ceil(y0)), int(y1)\n",
    "    points = []\n",
    "    for y in range(int(y0), int(math.ceil(y1))):\n",
    "        if y < yi[0]:\n",
    "            weight = yi[0] - y0\n",
    "        elif y > yi[1]:\n",
    "            weight = y1 - yi[1]\n",
    "        else:\n",
    "            weight = 1\n",
    "        xs = x0 + (y - y0 - .5) * ds\n",
    "        xe = xs + w\n",
    "        xi = int(math.ceil(xs)), int(xe)\n",
    "        if xi[0] != xi[1]:\n",
    "            points.append((y, slice(xi[0], xi[1]), weight))\n",
    "        if xi[0] != xs:\n",
    "            points.append((y, int(xs), weight * (xi[0] - xs)))\n",
    "        if xi[1] != xe:\n",
    "            points.append((y, xi[1], weight * (xe - xi[1])))\n",
    "    if flip:\n",
    "        points = [(x, y, z) for y, x, z in points]\n",
    "    for y, x, z in points:\n",
    "        m[y, x] += 2 * z\n",
    "    m -= 1\n",
    "    m = m.clip(-1, 1)\n",
    "    return m"
   ]
  },
  {
   "cell_type": "code",
   "execution_count": 28,
   "id": "0e078bd6-f4b2-4342-b2e5-9a337bf71604",
   "metadata": {},
   "outputs": [
    {
     "data": {
      "text/plain": [
       "<matplotlib.image.AxesImage at 0x7efc701bffa0>"
      ]
     },
     "execution_count": 28,
     "metadata": {},
     "output_type": "execute_result"
    },
    {
     "data": {
      "image/png": "[encoded data removed]",
      "text/plain": [
       "<Figure size 432x288 with 1 Axes>"
      ]
     },
     "metadata": {
      "needs_background": "light"
     },
     "output_type": "display_data"
    }
   ],
   "source": [
    "plt.imshow(draw_line(2, 32, 32))"
   ]
  },
  {
   "cell_type": "code",
   "execution_count": 32,
   "id": "47f928f6-a3d8-4227-acec-0a62271922c6",
   "metadata": {},
   "outputs": [
    {
     "data": {
      "text/plain": [
       "(32, 32, 1)"
      ]
     },
     "execution_count": 32,
     "metadata": {},
     "output_type": "execute_result"
    }
   ],
   "source": [
    "draw_line(2, 32, 32).shape"
   ]
  },
  {
   "cell_type": "markdown",
   "id": "485b53d2-d5b9-47dd-9584-7d02dd99c67c",
   "metadata": {
    "tags": []
   },
   "source": [
    "# Different autoencoders"
   ]
  },
  {
   "cell_type": "markdown",
   "id": "e360cd1e-6261-4f2b-a0dd-f49ad63214d4",
   "metadata": {
    "tags": []
   },
   "source": [
    "### Baseline"
   ]
  },
  {
   "cell_type": "code",
   "execution_count": 52,
   "id": "4f18548c-04e1-4952-955d-7b2171a59cb0",
   "metadata": {},
   "outputs": [],
   "source": [
    "class Baseline_encoder(tf.keras.Model):\n",
    "    def __init__(self): \n",
    "        super(Baseline_encoder, self).__init__(name='baseline_encoder')\n",
    "        self.c1 = tf.keras.layers.Conv2D(1,(3,3),padding='same',name='c1',activation=tf.keras.layers.LeakyReLU(0.2))\n",
    "        self.c2 = tf.keras.layers.Conv2D(2,(3,3),padding='same',name='c2',activation=tf.keras.layers.LeakyReLU(0.2))\n",
    "        self.ap1 = tf.keras.layers.AveragePooling2D(pool_size=(2, 2),name='ap1')\n",
    "        \n",
    "        self.c3 = tf.keras.layers.Conv2D(2,(3,3),padding='same',name='c3',activation=tf.keras.layers.LeakyReLU(0.2))\n",
    "        self.c4 = tf.keras.layers.Conv2D(4,(3,3),padding='same',name='c4',activation=tf.keras.layers.LeakyReLU(0.2))\n",
    "        self.ap2 = tf.keras.layers.AveragePooling2D(pool_size=(2, 2),name='ap2')\n",
    "        \n",
    "        self.c5 = tf.keras.layers.Conv2D(4,(3,3),padding='same',name='c5',activation=tf.keras.layers.LeakyReLU(0.2))\n",
    "        self.c6 = tf.keras.layers.Conv2D(8,(3,3),padding='same',name='c6',activation=tf.keras.layers.LeakyReLU(0.2))\n",
    "        self.ap3 = tf.keras.layers.AveragePooling2D(pool_size=(2, 2),name='ap3')\n",
    "        \n",
    "        self.c7 = tf.keras.layers.Conv2D(8,(3,3),padding='same',name='c7',activation=tf.keras.layers.LeakyReLU(0.2))\n",
    "        self.c8 = tf.keras.layers.Conv2D(16,(3,3),padding='same',name='c8',activation=tf.keras.layers.LeakyReLU(0.2))\n",
    "        self.ap4 = tf.keras.layers.AveragePooling2D(pool_size=(2, 2),name='ap4')\n",
    "\n",
    "        self.c9 = tf.keras.layers.Conv2D(16,(3,3),padding='same',name='c9',activation=tf.keras.layers.LeakyReLU(0.2))\n",
    "        self.c10 = tf.keras.layers.Conv2D(32,(3,3),padding='same',name='c10',activation=tf.keras.layers.LeakyReLU(0.2))\n",
    "        self.ap5 = tf.keras.layers.AveragePooling2D(pool_size=(2, 2),name='ap5')\n",
    "        \n",
    "        self.c11 = tf.keras.layers.Conv2D(32,(3,3),padding='same',name='c11',activation=tf.keras.layers.LeakyReLU(0.2))\n",
    "        self.c12 = tf.keras.layers.Conv2D(64,(3,3),padding='same',name='c12')     \n",
    "        \n",
    "    def call(self, x):\n",
    "        x = self.c1(x)\n",
    "        x = self.c2(x)\n",
    "        x = self.ap1(x)\n",
    "        x = self.c3(x)\n",
    "        x = self.c4(x)\n",
    "        x = self.ap2(x)\n",
    "        x = self.c5(x)\n",
    "        x = self.c6(x)\n",
    "        x = self.ap3(x)\n",
    "        x = self.c7(x)\n",
    "        x = self.c8(x)\n",
    "        x = self.ap4(x)\n",
    "        x = self.c9(x)\n",
    "        x = self.c10(x)\n",
    "        x = self.ap5(x)\n",
    "        x = self.c11(x)\n",
    "        x = self.c12(x)\n",
    "        return x\n",
    "    \n",
    "class Baseline_decoder(tf.keras.Model):\n",
    "    def __init__(self): \n",
    "        super(Baseline_decoder, self).__init__(name='baseline_decoder')\n",
    "        leaky_relu = tf.keras.layers.LeakyReLU(0.2)\n",
    "        lecun_normal = tf.keras.initializers.LecunNormal()\n",
    "        self.c1 = tf.keras.layers.Conv2D(64,(3,3),padding='same',activation=tf.keras.layers.LeakyReLU(0.2),kernel_initializer=lecun_normal)\n",
    "        self.c2 = tf.keras.layers.Conv2D(64,(3,3),padding='same',activation=tf.keras.layers.LeakyReLU(0.2),kernel_initializer=lecun_normal)\n",
    "        self.us1 = tf.keras.layers.UpSampling2D((2, 2), interpolation='nearest')\n",
    "        \n",
    "        self.c3 = tf.keras.layers.Conv2D(32,(3,3),padding='same',activation=tf.keras.layers.LeakyReLU(0.2),kernel_initializer=lecun_normal)\n",
    "        self.c4 = tf.keras.layers.Conv2D(32,(3,3),padding='same',activation=tf.keras.layers.LeakyReLU(0.2),kernel_initializer=lecun_normal)\n",
    "        self.us2 = tf.keras.layers.UpSampling2D((2, 2), interpolation='nearest')\n",
    "        \n",
    "        self.c5 = tf.keras.layers.Conv2D(16,(3,3),padding='same',activation=tf.keras.layers.LeakyReLU(0.2),kernel_initializer=lecun_normal)\n",
    "        self.c6 = tf.keras.layers.Conv2D(16,(3,3),padding='same',activation=tf.keras.layers.LeakyReLU(0.2),kernel_initializer=lecun_normal)\n",
    "        self.us3 = tf.keras.layers.UpSampling2D((2, 2), interpolation='nearest')\n",
    "        \n",
    "        self.c7 = tf.keras.layers.Conv2D(8,(3,3),padding='same',activation=tf.keras.layers.LeakyReLU(0.2),kernel_initializer=lecun_normal)\n",
    "        self.c8 = tf.keras.layers.Conv2D(8,(3,3),padding='same',activation=tf.keras.layers.LeakyReLU(0.2),kernel_initializer=lecun_normal)\n",
    "        self.us4 = tf.keras.layers.UpSampling2D((2, 2), interpolation='nearest')\n",
    "        \n",
    "        self.c9 = tf.keras.layers.Conv2D(4,(3,3),padding='same',activation=tf.keras.layers.LeakyReLU(0.2),kernel_initializer=lecun_normal)\n",
    "        self.c10 = tf.keras.layers.Conv2D(4,(3,3),padding='same',activation=tf.keras.layers.LeakyReLU(0.2),kernel_initializer=lecun_normal)\n",
    "        self.us5 = tf.keras.layers.UpSampling2D((2, 2), interpolation='nearest')\n",
    "        \n",
    "        self.c11 = tf.keras.layers.Conv2D(2,(3,3),padding='same',activation=tf.keras.layers.LeakyReLU(0.2),kernel_initializer=lecun_normal)\n",
    "        self.c12 = tf.keras.layers.Conv2D(1,(3,3),padding='same')     \n",
    "\n",
    "    def call(self, x):\n",
    "        x = self.c1(x)\n",
    "        x = self.c2(x)\n",
    "        x = self.us1(x)\n",
    "        x = self.c3(x)\n",
    "        x = self.c4(x)\n",
    "        x = self.us2(x)\n",
    "        x = self.c5(x)\n",
    "        x = self.c6(x)\n",
    "        x = self.us3(x)\n",
    "        x = self.c7(x)\n",
    "        x = self.c8(x)\n",
    "        x = self.us4(x)\n",
    "        x = self.c9(x)\n",
    "        x = self.c10(x)\n",
    "        x = self.us5(x)\n",
    "        x = self.c11(x)\n",
    "        x = self.c12(x)\n",
    "        return x\n",
    "\n",
    "class Baseline(tf.keras.Model):\n",
    "    def __init__(self): \n",
    "        super(Baseline, self).__init__(name='baseline')\n",
    "        self.encoder = Baseline_encoder()\n",
    "        self.decoder = Baseline_decoder()\n",
    "    def call(self, x):\n",
    "        x = self.encoder(x)\n",
    "        x = self.decoder(x)      \n",
    "        return x"
   ]
  },
  {
   "cell_type": "code",
   "execution_count": null,
   "id": "ab40a939-0004-41a9-8f21-3dad8dcceed6",
   "metadata": {},
   "outputs": [],
   "source": []
  },
  {
   "cell_type": "code",
   "execution_count": null,
   "id": "96402a4c-e565-406b-8c19-a126c9b9b805",
   "metadata": {},
   "outputs": [],
   "source": []
  },
  {
   "cell_type": "code",
   "execution_count": 11,
   "id": "853052cf-5456-4b6c-b07f-6a6b257c02ae",
   "metadata": {},
   "outputs": [],
   "source": []
  },
  {
   "cell_type": "code",
   "execution_count": 12,
   "id": "e86508d3-48ff-4ad1-84a0-476fae614b99",
   "metadata": {},
   "outputs": [],
   "source": []
  },
  {
   "cell_type": "code",
   "execution_count": 14,
   "id": "e047701e-d2eb-4959-8a66-459132f8a05c",
   "metadata": {},
   "outputs": [],
   "source": []
  },
  {
   "cell_type": "markdown",
   "id": "584d98ab-a3ae-4dfd-94fa-50c066e013c4",
   "metadata": {
    "jp-MarkdownHeadingCollapsed": true,
    "tags": []
   },
   "source": [
    "### Dropout"
   ]
  },
  {
   "cell_type": "code",
   "execution_count": null,
   "id": "da60f817-221b-4cb3-88f7-26967ee24f97",
   "metadata": {},
   "outputs": [],
   "source": [
    "class AEDropout(train.AE):\n",
    "\n",
    "    def model(self, latent, depth, scales, dropout):\n",
    "        x = tf.placeholder(tf.float32,\n",
    "                           [None, self.height, self.width, self.colors], 'x')\n",
    "        l = tf.placeholder(tf.float32, [None, self.nclass], 'label')\n",
    "        h = tf.placeholder(\n",
    "            tf.float32,\n",
    "            [None, self.height >> scales, self.width >> scales, latent], 'h')\n",
    "\n",
    "        encode = layers.encoder(x, scales, depth, latent, 'ae_encoder')\n",
    "        encode_train = tf.layers.flatten(encode)\n",
    "        encode_train = tf.nn.dropout(encode_train, dropout)\n",
    "        encode_train = tf.reshape(encode_train, tf.shape(encode))\n",
    "        decode = layers.decoder(h, scales, depth, self.colors, 'ae_decoder')\n",
    "        ae = layers.decoder(encode, scales, depth, self.colors, 'ae_decoder')\n",
    "        ae_train = layers.decoder(encode_train, scales, depth, self.colors,\n",
    "                                  'ae_decoder')\n",
    "        loss = tf.losses.mean_squared_error(x, ae_train)\n",
    "\n",
    "        utils.HookReport.log_tensor(loss, 'loss')\n",
    "        utils.HookReport.log_tensor(tf.sqrt(loss) * 127.5, 'rmse')\n",
    "\n",
    "        xops = classifiers.single_layer_classifier(\n",
    "            tf.stop_gradient(encode), l, self.nclass)\n",
    "        xloss = tf.reduce_mean(xops.loss)\n",
    "        utils.HookReport.log_tensor(xloss, 'classify_latent')\n",
    "\n",
    "        update_ops = tf.get_collection(tf.GraphKeys.UPDATE_OPS)\n",
    "        with tf.control_dependencies(update_ops):\n",
    "            train_op = tf.train.AdamOptimizer(FLAGS.lr)\n",
    "            train_op = train_op.minimize(loss + xloss,\n",
    "                                         tf.train.get_global_step())\n",
    "        ops = train.AEOps(x, h, l, encode, decode, ae, train_op,\n",
    "                          classify_latent=xops.output)\n",
    "\n",
    "        def gen_images():\n",
    "            return self.make_sample_grid_and_save(ops)\n",
    "\n",
    "        recon, inter, slerp, samples = tf.py_func(\n",
    "            gen_images, [], [tf.float32]*4)\n",
    "        tf.summary.image('reconstruction', tf.expand_dims(recon, 0))\n",
    "        tf.summary.image('interpolation', tf.expand_dims(inter, 0))\n",
    "        tf.summary.image('slerp', tf.expand_dims(slerp, 0))\n",
    "        tf.summary.image('samples', tf.expand_dims(samples, 0))\n",
    "\n",
    "        return ops\n",
    "\n"
   ]
  },
  {
   "cell_type": "markdown",
   "id": "bd6a5acb-6319-45f6-ab64-4895d5784a14",
   "metadata": {
    "jp-MarkdownHeadingCollapsed": true,
    "tags": []
   },
   "source": [
    "### Denoising"
   ]
  },
  {
   "cell_type": "code",
   "execution_count": null,
   "id": "2aed2d5f-05d4-4a71-9216-6b6832ea7712",
   "metadata": {},
   "outputs": [],
   "source": [
    "class AEDenoising(train.AE):\n",
    "\n",
    "    def model(self, latent, depth, scales, noise):\n",
    "        x = tf.placeholder(tf.float32,\n",
    "                           [None, self.height, self.width, self.colors], 'x')\n",
    "        l = tf.placeholder(tf.float32, [None, self.nclass], 'label')\n",
    "        h = tf.placeholder(\n",
    "            tf.float32,\n",
    "            [None, self.height >> scales, self.width >> scales, latent], 'h')\n",
    "\n",
    "        xn = x + tf.random_normal(tf.shape(x), stddev=noise)\n",
    "        encode = layers.encoder(x, scales, depth, latent, 'ae_encoder')\n",
    "        decode = layers.decoder(h, scales, depth, self.colors, 'ae_decoder')\n",
    "        ae = layers.decoder(encode, scales, depth, self.colors, 'ae_decoder')\n",
    "        encode_noise = layers.encoder(xn, scales, depth, latent, 'ae_encoder')\n",
    "        ae_noise = layers.decoder(encode_noise, scales, depth, self.colors,\n",
    "                                  'ae_decoder')\n",
    "        loss = tf.losses.mean_squared_error(x, ae_noise)\n",
    "\n",
    "        utils.HookReport.log_tensor(loss, 'loss')\n",
    "        utils.HookReport.log_tensor(tf.sqrt(loss) * 127.5, 'rmse')\n",
    "\n",
    "        xops = classifiers.single_layer_classifier(\n",
    "            tf.stop_gradient(encode), l, self.nclass)\n",
    "        xloss = tf.reduce_mean(xops.loss)\n",
    "        utils.HookReport.log_tensor(xloss, 'classify_latent')\n",
    "\n",
    "        update_ops = tf.get_collection(tf.GraphKeys.UPDATE_OPS)\n",
    "        with tf.control_dependencies(update_ops):\n",
    "            train_op = tf.train.AdamOptimizer(FLAGS.lr)\n",
    "            train_op = train_op.minimize(loss + xloss,\n",
    "                                         tf.train.get_global_step())\n",
    "        ops = train.AEOps(x, h, l, encode, decode, ae, train_op,\n",
    "                          classify_latent=xops.output)\n",
    "\n",
    "        def gen_images():\n",
    "            return self.make_sample_grid_and_save(ops)\n",
    "\n",
    "        recon, inter, slerp, samples = tf.py_func(\n",
    "            gen_images, [], [tf.float32]*4)\n",
    "        tf.summary.image('reconstruction', tf.expand_dims(recon, 0))\n",
    "        tf.summary.image('interpolation', tf.expand_dims(inter, 0))\n",
    "        tf.summary.image('slerp', tf.expand_dims(slerp, 0))\n",
    "        tf.summary.image('samples', tf.expand_dims(samples, 0))\n",
    "\n",
    "        return ops"
   ]
  },
  {
   "cell_type": "markdown",
   "id": "4594b294-f167-400e-bb55-93ccfc72ad01",
   "metadata": {
    "jp-MarkdownHeadingCollapsed": true,
    "tags": []
   },
   "source": [
    "### VAE"
   ]
  },
  {
   "cell_type": "code",
   "execution_count": null,
   "id": "72d3b64e-ad54-49dc-aa47-603b782e6629",
   "metadata": {},
   "outputs": [],
   "source": [
    "class VAE(train.AE):\n",
    "\n",
    "    def model(self, latent, depth, scales, beta):\n",
    "        x = tf.placeholder(tf.float32,\n",
    "                           [None, self.height, self.width, self.colors], 'x')\n",
    "        l = tf.placeholder(tf.float32, [None, self.nclass], 'label')\n",
    "        h = tf.placeholder(\n",
    "            tf.float32,\n",
    "            [None, self.height >> scales, self.width >> scales, latent], 'h')\n",
    "\n",
    "        def encoder(x):\n",
    "            return layers.encoder(x, scales, depth, latent, 'ae_enc')\n",
    "\n",
    "        def decoder(h):\n",
    "            return layers.decoder(h, scales, depth, self.colors, 'ae_dec')\n",
    "\n",
    "        encode = encoder(x)\n",
    "        with tf.variable_scope('ae_latent'):\n",
    "            encode_shape = tf.shape(encode)\n",
    "            encode_flat = tf.layers.flatten(encode)\n",
    "            latent_dim = encode_flat.get_shape()[-1]\n",
    "            q_mu = tf.layers.dense(encode_flat, latent_dim)\n",
    "            log_q_sigma_sq = tf.layers.dense(encode_flat, latent_dim)\n",
    "        q_sigma = tf.sqrt(tf.exp(log_q_sigma_sq))\n",
    "        q_z = tf.distributions.Normal(loc=q_mu, scale=q_sigma)\n",
    "        q_z_sample = q_z.sample()\n",
    "        q_z_sample_reshaped = tf.reshape(q_z_sample, encode_shape)\n",
    "        p_x_given_z_logits = decoder(q_z_sample_reshaped)\n",
    "        p_x_given_z = tf.distributions.Bernoulli(logits=p_x_given_z_logits)\n",
    "        ae = 2*tf.nn.sigmoid(p_x_given_z_logits) - 1\n",
    "        decode = 2*tf.nn.sigmoid(decoder(h)) - 1\n",
    "        loss_kl = 0.5*tf.reduce_sum(\n",
    "            -log_q_sigma_sq - 1 + tf.exp(log_q_sigma_sq) + q_mu**2)\n",
    "        loss_kl = loss_kl/tf.to_float(tf.shape(x)[0])\n",
    "        x_bernoulli = 0.5*(x + 1)\n",
    "        loss_ll = tf.reduce_sum(p_x_given_z.log_prob(x_bernoulli))\n",
    "        loss_ll = loss_ll/tf.to_float(tf.shape(x)[0])\n",
    "        elbo = loss_ll - beta*loss_kl\n",
    "\n",
    "        utils.HookReport.log_tensor(loss_kl, 'loss_kl')\n",
    "        utils.HookReport.log_tensor(loss_ll, 'loss_ll')\n",
    "        utils.HookReport.log_tensor(elbo, 'elbo')\n",
    "\n",
    "        xops = classifiers.single_layer_classifier(\n",
    "            tf.stop_gradient(encode), l, self.nclass)\n",
    "        xloss = tf.reduce_mean(xops.loss)\n",
    "        utils.HookReport.log_tensor(xloss, 'classify_latent')\n",
    "\n",
    "        update_ops = tf.get_collection(tf.GraphKeys.UPDATE_OPS)\n",
    "        ae_vars = tf.global_variables('ae_')\n",
    "        xl_vars = tf.global_variables('single_layer_classifier')\n",
    "        with tf.control_dependencies(update_ops):\n",
    "            train_ae = tf.train.AdamOptimizer(FLAGS.lr).minimize(\n",
    "                -elbo, var_list=ae_vars)\n",
    "            train_xl = tf.train.AdamOptimizer(FLAGS.lr).minimize(\n",
    "                xloss, tf.train.get_global_step(), var_list=xl_vars)\n",
    "        ops = train.AEOps(x, h, l, q_z_sample_reshaped, decode, ae,\n",
    "                          tf.group(train_ae, train_xl),\n",
    "                          classify_latent=xops.output)\n",
    "\n",
    "        n_interpolations = 16\n",
    "        n_images_per_interpolation = 16\n",
    "\n",
    "        def gen_images():\n",
    "            return self.make_sample_grid_and_save(\n",
    "                ops, interpolation=n_interpolations,\n",
    "                height=n_images_per_interpolation)\n",
    "\n",
    "        recon, inter, slerp, samples = tf.py_func(\n",
    "            gen_images, [], [tf.float32]*4)\n",
    "        tf.summary.image('reconstruction', tf.expand_dims(recon, 0))\n",
    "        tf.summary.image('interpolation', tf.expand_dims(inter, 0))\n",
    "        tf.summary.image('slerp', tf.expand_dims(slerp, 0))\n",
    "        tf.summary.image('samples', tf.expand_dims(samples, 0))\n",
    "\n",
    "        return ops"
   ]
  },
  {
   "cell_type": "markdown",
   "id": "aab7a9d2-f955-4064-ab47-39bd2a2e1abd",
   "metadata": {
    "jp-MarkdownHeadingCollapsed": true,
    "tags": []
   },
   "source": [
    "### AAE"
   ]
  },
  {
   "cell_type": "code",
   "execution_count": null,
   "id": "13a5eb6e-9596-4e59-9507-b3dc3a186dfe",
   "metadata": {},
   "outputs": [],
   "source": [
    "class AAE(train.AE):\n",
    "\n",
    "    def model(self, latent, depth, scales, adversary_lr, disc_layer_sizes):\n",
    "        x = tf.placeholder(tf.float32,\n",
    "                           [None, self.height, self.width, self.colors], 'x')\n",
    "        l = tf.placeholder(tf.float32, [None, self.nclass], 'label')\n",
    "        h = tf.placeholder(\n",
    "            tf.float32,\n",
    "            [None, self.height >> scales, self.width >> scales, latent], 'h')\n",
    "\n",
    "        def encoder(x):\n",
    "            return layers.encoder(x, scales, depth, latent, 'ae_enc')\n",
    "\n",
    "        def decoder(h):\n",
    "            return layers.decoder(h, scales, depth, self.colors, 'ae_dec')\n",
    "\n",
    "        def discriminator(h):\n",
    "            with tf.variable_scope('disc', reuse=tf.AUTO_REUSE):\n",
    "                h = tf.layers.flatten(h)\n",
    "                for size in [int(s) for s in disc_layer_sizes.split(',')]:\n",
    "                    h = tf.layers.dense(h, size, tf.nn.leaky_relu)\n",
    "                return tf.layers.dense(h, 1)\n",
    "\n",
    "        encode = encoder(x)\n",
    "        decode = decoder(h)\n",
    "        ae = decoder(encode)\n",
    "        loss_ae = tf.losses.mean_squared_error(x, ae)\n",
    "\n",
    "        prior_samples = tf.random_normal(tf.shape(encode), dtype=encode.dtype)\n",
    "        adversary_logit_latent = discriminator(encode)\n",
    "        adversary_logit_prior = discriminator(prior_samples)\n",
    "        adversary_loss_latents = tf.reduce_mean(\n",
    "            tf.nn.sigmoid_cross_entropy_with_logits(\n",
    "                logits=adversary_logit_latent,\n",
    "                labels=tf.zeros_like(adversary_logit_latent)))\n",
    "        adversary_loss_prior = tf.reduce_mean(\n",
    "            tf.nn.sigmoid_cross_entropy_with_logits(\n",
    "                logits=adversary_logit_prior,\n",
    "                labels=tf.ones_like(adversary_logit_prior)))\n",
    "        autoencoder_loss_latents = tf.reduce_mean(\n",
    "            tf.nn.sigmoid_cross_entropy_with_logits(\n",
    "                logits=adversary_logit_latent,\n",
    "                labels=tf.ones_like(adversary_logit_latent)))\n",
    "\n",
    "        def _accuracy(logits, label):\n",
    "            labels = tf.logical_and(label, tf.ones_like(logits, dtype=bool))\n",
    "            correct = tf.equal(tf.greater(logits, 0), labels)\n",
    "            return tf.reduce_mean(tf.to_float(correct))\n",
    "        latent_accuracy = _accuracy(adversary_logit_latent, False)\n",
    "        prior_accuracy = _accuracy(adversary_logit_prior, True)\n",
    "        adversary_accuracy = (latent_accuracy + prior_accuracy)/2\n",
    "\n",
    "        utils.HookReport.log_tensor(loss_ae, 'loss_ae')\n",
    "        utils.HookReport.log_tensor(adversary_loss_latents, 'loss_adv_latent')\n",
    "        utils.HookReport.log_tensor(adversary_loss_prior, 'loss_adv_prior')\n",
    "        utils.HookReport.log_tensor(autoencoder_loss_latents, 'loss_ae_latent')\n",
    "        utils.HookReport.log_tensor(adversary_accuracy, 'adversary_accuracy')\n",
    "\n",
    "        xops = classifiers.single_layer_classifier(\n",
    "            tf.stop_gradient(encode), l, self.nclass)\n",
    "        xloss = tf.reduce_mean(xops.loss)\n",
    "        utils.HookReport.log_tensor(xloss, 'classify_latent')\n",
    "\n",
    "        update_ops = tf.get_collection(tf.GraphKeys.UPDATE_OPS)\n",
    "        ae_vars = tf.global_variables('ae_')\n",
    "        disc_vars = tf.global_variables('disc')\n",
    "        xl_vars = tf.global_variables('single_layer_classifier')\n",
    "        with tf.control_dependencies(update_ops):\n",
    "            train_ae = tf.train.AdamOptimizer(FLAGS.lr).minimize(\n",
    "                loss_ae + autoencoder_loss_latents, var_list=ae_vars)\n",
    "            train_disc = tf.train.AdamOptimizer(adversary_lr).minimize(\n",
    "                adversary_loss_prior + adversary_loss_latents,\n",
    "                var_list=disc_vars)\n",
    "            train_xl = tf.train.AdamOptimizer(FLAGS.lr).minimize(\n",
    "                xloss, tf.train.get_global_step(), var_list=xl_vars)\n",
    "        ops = train.AEOps(x, h, l, encode, decode, ae,\n",
    "                          tf.group(train_ae, train_disc, train_xl),\n",
    "                          classify_latent=xops.output)\n",
    "\n",
    "        n_interpolations = 16\n",
    "        n_images_per_interpolation = 16\n",
    "\n",
    "        def gen_images():\n",
    "            return self.make_sample_grid_and_save(\n",
    "                ops, interpolation=n_interpolations,\n",
    "                height=n_images_per_interpolation)\n",
    "\n",
    "        recon, inter, slerp, samples = tf.py_func(\n",
    "            gen_images, [], [tf.float32]*4)\n",
    "        tf.summary.image('reconstruction', tf.expand_dims(recon, 0))\n",
    "        tf.summary.image('interpolation', tf.expand_dims(inter, 0))\n",
    "        tf.summary.image('slerp', tf.expand_dims(slerp, 0))\n",
    "        tf.summary.image('samples', tf.expand_dims(samples, 0))\n",
    "\n",
    "        if FLAGS.dataset == 'lines32':\n",
    "            batched = (n_interpolations, 32, n_images_per_interpolation, 32, 1)\n",
    "            batched_interp = tf.transpose(\n",
    "                tf.reshape(inter, batched), [0, 2, 1, 3, 4])\n",
    "            mean_distance, mean_smoothness = tf.py_func(\n",
    "                eval.line_eval, [batched_interp], [tf.float32, tf.float32])\n",
    "            tf.summary.scalar('mean_distance', mean_distance)\n",
    "            tf.summary.scalar('mean_smoothness', mean_smoothness)\n",
    "\n",
    "        return ops"
   ]
  },
  {
   "cell_type": "markdown",
   "id": "bcb2360b-0e9f-4592-9b23-ccba8d1dbe58",
   "metadata": {
    "jp-MarkdownHeadingCollapsed": true,
    "tags": []
   },
   "source": [
    "### VQ-VAE"
   ]
  },
  {
   "cell_type": "code",
   "execution_count": null,
   "id": "730fa9ba-151f-4a52-b0ca-da8db19c9669",
   "metadata": {},
   "outputs": [],
   "source": [
    "class AEVQVAE(train.AE):\n",
    "    hparams = ClassDict(decay=0.999,\n",
    "                        random_top_k=1,\n",
    "                        filter_size=512,\n",
    "                        soft_em=False,\n",
    "                        num_samples=1,\n",
    "                        epsilon=1e-5)\n",
    "\n",
    "    def model(self, latent, depth, scales, z_log_size, beta, num_latents):\n",
    "        tf.set_random_seed(123)\n",
    "        x = tf.placeholder(tf.float32,\n",
    "                           [None, self.height, self.width, self.colors], 'x')\n",
    "        l = tf.placeholder(tf.float32, [None, self.nclass], 'label')\n",
    "        h = tf.placeholder(\n",
    "            tf.float32,\n",
    "            [None, self.height >> scales, self.width >> scales, latent], 'h')\n",
    "\n",
    "        def decode_fn(h):\n",
    "            with tf.variable_scope('vqvae', reuse=tf.AUTO_REUSE):\n",
    "                h2 = tf.expand_dims(tf.layers.flatten(h), axis=1)\n",
    "                h2 = tf.layers.dense(h2, self.hparams.hidden_size * num_latents)\n",
    "                d = bneck.discrete_bottleneck(h2)\n",
    "                y = layers.decoder(tf.reshape(d['dense'], tf.shape(h)),\n",
    "                                   scales, depth, self.colors, 'ae_decoder')\n",
    "                return y, d\n",
    "\n",
    "        self.hparams.hidden_size = (\n",
    "                    (self.height >> scales) * (self.width >> scales) * latent)\n",
    "        self.hparams.z_size = z_log_size\n",
    "        self.hparams.num_residuals = 1\n",
    "        self.hparams.num_blocks = 1\n",
    "        self.hparams.beta = beta\n",
    "        self.hparams.ema = True\n",
    "        bneck = DiscreteBottleneck(self.hparams)\n",
    "        encode = layers.encoder(x, scales, depth, latent, 'ae_encoder')\n",
    "        decode = decode_fn(h)[0]\n",
    "        ae, d = decode_fn(encode)\n",
    "        loss_ae = tf.losses.mean_squared_error(x, ae)\n",
    "\n",
    "        utils.HookReport.log_tensor(tf.sqrt(loss_ae) * 127.5, 'rmse')\n",
    "        utils.HookReport.log_tensor(loss_ae, 'loss_ae')\n",
    "        utils.HookReport.log_tensor(d['loss'], 'vqvae_loss')\n",
    "\n",
    "        xops = classifiers.single_layer_classifier(\n",
    "            tf.stop_gradient(d['dense']), l, self.nclass)\n",
    "        xloss = tf.reduce_mean(xops.loss)\n",
    "        utils.HookReport.log_tensor(xloss, 'classify_latent')\n",
    "\n",
    "        update_ops = tf.get_collection(tf.GraphKeys.UPDATE_OPS)\n",
    "        with tf.control_dependencies(update_ops + [d['discrete']]):\n",
    "            train_op = tf.train.AdamOptimizer(FLAGS.lr).minimize(\n",
    "                loss_ae + xloss + d['loss'], tf.train.get_global_step())\n",
    "        ops = train.AEOps(x, h, l, encode, decode, ae, train_op,\n",
    "                          classify_latent=xops.output)\n",
    "\n",
    "        n_interpolations = 16\n",
    "        n_images_per_interpolation = 16\n",
    "\n",
    "        def gen_images():\n",
    "            return self.make_sample_grid_and_save(\n",
    "                ops, interpolation=n_interpolations,\n",
    "                height=n_images_per_interpolation)\n",
    "\n",
    "        recon, inter, slerp, samples = tf.py_func(\n",
    "            gen_images, [], [tf.float32]*4)\n",
    "        tf.summary.image('reconstruction', tf.expand_dims(recon, 0))\n",
    "        tf.summary.image('interpolation', tf.expand_dims(inter, 0))\n",
    "        tf.summary.image('slerp', tf.expand_dims(slerp, 0))\n",
    "        tf.summary.image('samples', tf.expand_dims(samples, 0))\n",
    "\n",
    "        return ops"
   ]
  },
  {
   "cell_type": "code",
   "execution_count": null,
   "id": "3b90f637-bd72-419b-b218-4ef1606c0e0c",
   "metadata": {},
   "outputs": [],
   "source": []
  },
  {
   "cell_type": "markdown",
   "id": "35e5dd5a-18fa-476e-b7c7-bca2198a8dd4",
   "metadata": {
    "jp-MarkdownHeadingCollapsed": true,
    "tags": []
   },
   "source": [
    "### ACAI"
   ]
  },
  {
   "cell_type": "code",
   "execution_count": null,
   "id": "d8a36f79-37c4-4073-b618-4f1030f68d04",
   "metadata": {},
   "outputs": [],
   "source": []
  },
  {
   "cell_type": "code",
   "execution_count": null,
   "id": "e69a2f4a-d8de-4bdd-bfc0-06d1dbb39aa7",
   "metadata": {},
   "outputs": [],
   "source": []
  },
  {
   "cell_type": "code",
   "execution_count": null,
   "id": "20b86c26-4108-4bf7-b7f1-ab7096c75b62",
   "metadata": {},
   "outputs": [],
   "source": [
    "class ACAI(train.AE):\n",
    "    def model(self, latent, depth, scales, advweight, advdepth, reg):\n",
    "        x = tf.placeholder(tf.float32,\n",
    "                           [None, self.height, self.width, self.colors], 'x')\n",
    "        l = tf.placeholder(tf.float32, [None, self.nclass], 'label')\n",
    "        h = tf.placeholder(\n",
    "            tf.float32,\n",
    "            [None, self.height >> scales, self.width >> scales, latent], 'h')\n",
    "\n",
    "        def encoder(x):\n",
    "            return layers.encoder(x, scales, depth, latent, 'ae_enc')\n",
    "\n",
    "        def decoder(h):\n",
    "            v = layers.decoder(h, scales, depth, self.colors, 'ae_dec')\n",
    "            return v\n",
    "\n",
    "        def disc(x):\n",
    "            return tf.reduce_mean(\n",
    "                layers.encoder(x, scales, advdepth, latent, 'disc'),\n",
    "                axis=[1, 2, 3])\n",
    "\n",
    "        encode = encoder(x)\n",
    "        decode = decoder(h)\n",
    "        ae = decoder(encode)\n",
    "        loss_ae = tf.losses.mean_squared_error(x, ae)\n",
    "\n",
    "        alpha = tf.random_uniform([tf.shape(encode)[0], 1, 1, 1], 0, 1)\n",
    "        alpha = 0.5 - tf.abs(alpha - 0.5)  # Make interval [0, 0.5]\n",
    "        encode_mix = alpha * encode + (1 - alpha) * encode[::-1]\n",
    "        decode_mix = decoder(encode_mix)\n",
    "\n",
    "        loss_disc = tf.reduce_mean(\n",
    "            tf.square(disc(decode_mix) - alpha[:, 0, 0, 0]))\n",
    "        loss_disc_real = tf.reduce_mean(tf.square(disc(ae + reg * (x - ae))))\n",
    "        loss_ae_disc = tf.reduce_mean(tf.square(disc(decode_mix)))\n",
    "\n",
    "        utils.HookReport.log_tensor(tf.sqrt(loss_ae) * 127.5, 'rmse')\n",
    "        utils.HookReport.log_tensor(loss_ae, 'loss_ae')\n",
    "        utils.HookReport.log_tensor(loss_disc, 'loss_disc')\n",
    "        utils.HookReport.log_tensor(loss_ae_disc, 'loss_ae_disc')\n",
    "        utils.HookReport.log_tensor(loss_disc_real, 'loss_disc_real')\n",
    "\n",
    "        xops = classifiers.single_layer_classifier(\n",
    "            tf.stop_gradient(encode), l, self.nclass)\n",
    "        xloss = tf.reduce_mean(xops.loss)\n",
    "        utils.HookReport.log_tensor(xloss, 'classify_latent')\n",
    "\n",
    "        update_ops = tf.get_collection(tf.GraphKeys.UPDATE_OPS)\n",
    "        ae_vars = tf.global_variables('ae_')\n",
    "        disc_vars = tf.global_variables('disc')\n",
    "        xl_vars = tf.global_variables('single_layer_classifier')\n",
    "        with tf.control_dependencies(update_ops):\n",
    "            train_ae = tf.train.AdamOptimizer(FLAGS.lr).minimize(\n",
    "                loss_ae + advweight * loss_ae_disc,\n",
    "                var_list=ae_vars)\n",
    "            train_d = tf.train.AdamOptimizer(FLAGS.lr).minimize(\n",
    "                loss_disc + loss_disc_real,\n",
    "                var_list=disc_vars)\n",
    "            train_xl = tf.train.AdamOptimizer(FLAGS.lr).minimize(\n",
    "                xloss, tf.train.get_global_step(), var_list=xl_vars)\n",
    "        ops = train.AEOps(x, h, l, encode, decode, ae,\n",
    "                          tf.group(train_ae, train_d, train_xl),\n",
    "                          classify_latent=xops.output)\n",
    "\n",
    "        n_interpolations = 16\n",
    "        n_images_per_interpolation = 16\n",
    "\n",
    "        def gen_images():\n",
    "            return self.make_sample_grid_and_save(\n",
    "                ops, interpolation=n_interpolations,\n",
    "                height=n_images_per_interpolation)\n",
    "\n",
    "        recon, inter, slerp, samples = tf.py_func(\n",
    "            gen_images, [], [tf.float32] * 4)\n",
    "        tf.summary.image('reconstruction', tf.expand_dims(recon, 0))\n",
    "        tf.summary.image('interpolation', tf.expand_dims(inter, 0))\n",
    "        tf.summary.image('slerp', tf.expand_dims(slerp, 0))\n",
    "        tf.summary.image('samples', tf.expand_dims(samples, 0))\n",
    "\n",
    "        if FLAGS.dataset == 'lines32':\n",
    "            batched = (n_interpolations, 32, n_images_per_interpolation, 32, 1)\n",
    "            batched_interp = tf.transpose(\n",
    "                tf.reshape(inter, batched), [0, 2, 1, 3, 4])\n",
    "            mean_distance, mean_smoothness = tf.py_func(\n",
    "                eval.line_eval, [batched_interp], [tf.float32, tf.float32])\n",
    "            tf.summary.scalar('mean_distance', mean_distance)\n",
    "            tf.summary.scalar('mean_smoothness', mean_smoothness)\n",
    "\n",
    "        return ops\n"
   ]
  },
  {
   "cell_type": "markdown",
   "id": "32745b96-0c29-4bf9-9fe2-d126b013f57c",
   "metadata": {},
   "source": [
    "# Train"
   ]
  },
  {
   "cell_type": "code",
   "execution_count": null,
   "id": "75cf9cae-90c8-4b17-9239-abe3863452c0",
   "metadata": {},
   "outputs": [],
   "source": [
    "model = Baseline()\n",
    "class CustomCallback(tf.keras.callbacks.Callback):\n",
    "    def on_epoch_end(self, epoch, logs):\n",
    "        clear_output(wait=True)\n",
    "        print(\"For epoch {:d}, loss is {:f}.\".format(epoch, logs[\"loss\"]))"
   ]
  },
  {
   "cell_type": "code",
   "execution_count": 53,
   "id": "da089306-1af5-4e04-8033-b35d8cf1cc71",
   "metadata": {},
   "outputs": [],
   "source": [
    "# 2^24 is too large for our gpu\n",
    "# use 2^12\n",
    "dataset = np.empty((2**12,32,32,1))\n",
    "for i in range(2**12):\n",
    "    angle = 2 * math.pi * np.random.random()\n",
    "    dataset[i,:,:,:] = draw_line(angle, 32, 32)"
   ]
  },
  {
   "cell_type": "code",
   "execution_count": 66,
   "id": "e331a94d-fee9-4b38-848e-2994fed49362",
   "metadata": {},
   "outputs": [],
   "source": [
    "Adam = tf.keras.optimizers.Adam(learning_rate=0.1,beta_1=0.9,beta_2=0.999,epsilon=1e-08)\n",
    "model.compile(loss='mse',optimizer=Adam)"
   ]
  },
  {
   "cell_type": "code",
   "execution_count": null,
   "id": "c87ca50f-7278-4d3a-ba66-363c4bbe19da",
   "metadata": {},
   "outputs": [
    {
     "name": "stdout",
     "output_type": "stream",
     "text": [
      "For epoch 25, loss is 0.080612.\n"
     ]
    }
   ],
   "source": [
    "model.fit(dataset, dataset, batch_size=64,epochs=1000,verbose=0,callbacks=CustomCallback())"
   ]
  },
  {
   "cell_type": "code",
   "execution_count": 63,
   "id": "46f6e27f-bd8d-4fdf-8bec-2ecebd3e379c",
   "metadata": {},
   "outputs": [
    {
     "data": {
      "text/plain": [
       "<matplotlib.image.AxesImage at 0x7ef8501fbfd0>"
      ]
     },
     "execution_count": 63,
     "metadata": {},
     "output_type": "execute_result"
    },
    {
     "data": {
      "image/png": "[encoded data removed]",
      "text/plain": [
       "<Figure size 432x288 with 1 Axes>"
      ]
     },
     "metadata": {
      "needs_background": "light"
     },
     "output_type": "display_data"
    }
   ],
   "source": [
    "plt.imshow(model(draw_line(2*math.pi*np.random.random(), 32, 32)[np.newaxis,:,:,:])[0,:,:,:])\n",
    "plt.imshow(model(dataset[0:1,:,:,:])[0,:,:,:])"
   ]
  },
  {
   "cell_type": "code",
   "execution_count": 65,
   "id": "02fc4fbe-621f-408f-b672-bd78bc52d0e6",
   "metadata": {},
   "outputs": [
    {
     "data": {
      "text/plain": [
       "<matplotlib.image.AxesImage at 0x7ef8500b4af0>"
      ]
     },
     "execution_count": 65,
     "metadata": {},
     "output_type": "execute_result"
    },
    {
     "data": {
      "image/png": "[encoded data removed]",
      "text/plain": [
       "<Figure size 432x288 with 1 Axes>"
      ]
     },
     "metadata": {
      "needs_background": "light"
     },
     "output_type": "display_data"
    }
   ],
   "source": [
    "plt.imshow(dataset[0,:,:,:])"
   ]
  },
  {
   "cell_type": "code",
   "execution_count": null,
   "id": "8d6f9ab1-0ccc-46bb-855d-e20d5ea22aaf",
   "metadata": {},
   "outputs": [],
   "source": []
  }
 ],
 "metadata": {
  "kernelspec": {
   "display_name": "Python 3 (ipykernel)",
   "language": "python",
   "name": "python3"
  },
  "language_info": {
   "codemirror_mode": {
    "name": "ipython",
    "version": 3
   },
   "file_extension": ".py",
   "mimetype": "text/x-python",
   "name": "python",
   "nbconvert_exporter": "python",
   "pygments_lexer": "ipython3",
   "version": "3.9.12"
  }
 },
 "nbformat": 4,
 "nbformat_minor": 5
}
