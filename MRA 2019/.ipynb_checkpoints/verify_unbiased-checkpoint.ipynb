{
 "cells": [
  {
   "cell_type": "code",
   "execution_count": 1,
   "id": "f1936cc8-3984-4b06-a3f3-d5391f345ae5",
   "metadata": {},
   "outputs": [],
   "source": [
    "import numpy as np\n",
    "import itertools\n",
    "import math\n",
    "import statistics\n",
    "import matplotlib.pyplot as plt\n",
    "import scipy\n",
    "import pandas as pd\n",
    "from tqdm import trange\n",
    "\n",
    "from distance import rho\n",
    "from moment_tensor import moment\n",
    "from sym import sym\n",
    "from T3estimator import T3estimator\n",
    "from Jennrich import Jennrich\n",
    "from generate import generate\n",
    "from fourier import fourier\n",
    "from paper import run\n",
    "from plot_save import plot_save"
   ]
  },
  {
   "cell_type": "code",
   "execution_count": 2,
   "id": "0c76edc1-d6f4-496a-8b9e-471926b1fb41",
   "metadata": {},
   "outputs": [],
   "source": [
    "# Generate theta\n",
    "d=10\n",
    "theta=np.empty(d)\n",
    "cos=math.cos\n",
    "sin=math.sin\n",
    "pi=math.pi\n",
    "exp=math.exp\n",
    "for k in range(d):\n",
    "    x=k/d\n",
    "    theta[k]=k\n",
    "theta=theta/np.linalg.norm(theta,2)"
   ]
  },
  {
   "cell_type": "code",
   "execution_count": 3,
   "id": "03d517fe-c42c-41cb-9cd7-9bc47140bc82",
   "metadata": {},
   "outputs": [
    {
     "name": "stderr",
     "output_type": "stream",
     "text": [
      "100%|████████████████████████████████████| 10000/10000 [00:28<00:00, 356.86it/s]\n"
     ]
    }
   ],
   "source": [
    "# Run\n",
    "n=1\n",
    "sigma=10\n",
    "list=[]\n",
    "for i in trange(10000):\n",
    "    y=generate(theta,n,sigma)\n",
    "    T=T3estimator(y,sigma)\n",
    "    T3=moment(3,theta)\n",
    "    list.append(T[0,0,0]-T3[0,0,0])"
   ]
  },
  {
   "cell_type": "code",
   "execution_count": 4,
   "id": "5c707b61-0715-4381-9aa0-fc66b2797416",
   "metadata": {},
   "outputs": [
    {
     "name": "stdout",
     "output_type": "stream",
     "text": [
      "-2.988560556737415\n"
     ]
    },
    {
     "data": {
      "text/plain": [
       "<AxesSubplot:ylabel='Density'>"
      ]
     },
     "execution_count": 4,
     "metadata": {},
     "output_type": "execute_result"
    },
    {
     "data": {
      "image/png": "[encoded data removed]",
      "text/plain": [
       "<Figure size 432x288 with 1 Axes>"
      ]
     },
     "metadata": {
      "needs_background": "light"
     },
     "output_type": "display_data"
    }
   ],
   "source": [
    "print(statistics.mean(list))\n",
    "pd.Series(list).plot.kde()"
   ]
  },
  {
   "cell_type": "code",
   "execution_count": null,
   "id": "b89308ca-7e64-4e56-abfa-b801d9e92ee7",
   "metadata": {},
   "outputs": [],
   "source": []
  }
 ],
 "metadata": {
  "kernelspec": {
   "display_name": "Python 3 (ipykernel)",
   "language": "python",
   "name": "python3"
  },
  "language_info": {
   "codemirror_mode": {
    "name": "ipython",
    "version": 3
   },
   "file_extension": ".py",
   "mimetype": "text/x-python",
   "name": "python",
   "nbconvert_exporter": "python",
   "pygments_lexer": "ipython3",
   "version": "3.9.12"
  }
 },
 "nbformat": 4,
 "nbformat_minor": 5
}
