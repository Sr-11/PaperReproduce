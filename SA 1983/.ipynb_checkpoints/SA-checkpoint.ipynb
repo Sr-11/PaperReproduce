{
 "cells": [
  {
   "cell_type": "code",
   "execution_count": 1,
   "id": "bde3f783-4e53-41cb-95f0-de13a3d5c966",
   "metadata": {},
   "outputs": [],
   "source": [
    "from sko.SA import SA\n",
    "import matplotlib.pyplot as plt\n",
    "import pandas as pd\n",
    "import numpy as np"
   ]
  },
  {
   "cell_type": "code",
   "execution_count": 2,
   "id": "8f1b0760-78ad-46e5-8043-365e0c4cdcfa",
   "metadata": {},
   "outputs": [
    {
     "name": "stdout",
     "output_type": "stream",
     "text": [
      "best_x: [1.54859722e-05 5.00137864e-02 6.19298149e-06] best_y 4.682326475331765e-10\n"
     ]
    },
    {
     "data": {
      "image/png": "[encoded data removed]",
      "text/plain": [
       "<Figure size 432x288 with 1 Axes>"
      ]
     },
     "metadata": {
      "needs_background": "light"
     },
     "output_type": "display_data"
    }
   ],
   "source": [
    "def func(x):\n",
    "    return x[0] ** 2 + (x[1] - 0.05) ** 2 + x[2] ** 2\n",
    "sa = SA(func=func, x0=[1, 1, 1], T_max=1, T_min=1e-9, L=300, max_stay_counter=150)\n",
    "best_x, best_y = sa.run()\n",
    "print('best_x:', best_x, 'best_y', best_y)\n",
    "plt.plot(pd.DataFrame(sa.best_y_history).cummin(axis=0))\n",
    "plt.show()"
   ]
  },
  {
   "cell_type": "code",
   "execution_count": 9,
   "id": "85518e5d-2a8e-4c1a-8b96-d75fc86eda2b",
   "metadata": {},
   "outputs": [],
   "source": [
    "def run():\n",
    "    def get_new_x(x):\n",
    "        r = np.random.uniform(-1, 1, size=len(x0))\n",
    "        x_new = x + np.sign(r) * T * ((1 + 1.0 / T) ** np.abs(r) - 1.0) * 10\n",
    "        return x_new\n",
    "    def cool_down():\n",
    "        T = T_max * np.exp(-iter_cycle)\n",
    "        return T\n",
    "    def isclose(a, b, rel_tol=1e-09, abs_tol=1e-30):\n",
    "        return abs(a - b) <= max(rel_tol * max(abs(a), abs(b)), abs_tol)\n",
    "    best_x = np.array(x0)  \n",
    "    best_y = func(best_x)\n",
    "    x_current, y_current = best_x, best_y\n",
    "    stay_counter = 0\n",
    "    T = T_max\n",
    "    iter_cycle = 0\n",
    "    generation_best_X = [best_x] \n",
    "    generation_best_Y = [best_y]\n",
    "    while True:\n",
    "        for i in range(L):\n",
    "            x_new = get_new_x(x_current)\n",
    "            y_new = func(x_new)\n",
    "            # Metropolis\n",
    "            df = y_new - y_current\n",
    "            if df < 0 or np.exp(-df / T) > np.random.rand():\n",
    "                x_current, y_current = x_new, y_new\n",
    "                if y_new < best_y:\n",
    "                    best_x, best_y = x_new, y_new\n",
    "        iter_cycle += 1\n",
    "        T = cool_down()\n",
    "        generation_best_Y.append(best_y)\n",
    "        generation_best_X.append(best_x)\n",
    "        if isclose(generation_best_Y[-1], generation_best_Y[-2]):\n",
    "            stay_counter += 1\n",
    "        else:\n",
    "            stay_counter = 0\n",
    "        if T < T_min:\n",
    "            stop_code = 'Cooled to final temperature'\n",
    "            break\n",
    "        if stay_counter > 150:\n",
    "            stop_code = 'Stay unchanged in the last {stay_counter} iterations'.format(stay_counter=stay_counter)\n",
    "            break\n",
    "    print(stop_code)\n",
    "    return best_x"
   ]
  },
  {
   "cell_type": "code",
   "execution_count": 10,
   "id": "7490e38f-fa16-405f-aa59-72e30000a8de",
   "metadata": {},
   "outputs": [
    {
     "name": "stdout",
     "output_type": "stream",
     "text": [
      "Cooled to final temperature\n"
     ]
    },
    {
     "data": {
      "text/plain": [
       "array([ 7.76273744e-06,  4.99788875e-02, -5.09531207e-06])"
      ]
     },
     "execution_count": 10,
     "metadata": {},
     "output_type": "execute_result"
    }
   ],
   "source": [
    "x0 = [1,1,1]\n",
    "T_max = 100\n",
    "T_min = 1e-9\n",
    "L = 300\n",
    "run()"
   ]
  },
  {
   "cell_type": "code",
   "execution_count": null,
   "id": "f9d8578d-37a9-44cb-86f0-148bc6bfdc04",
   "metadata": {},
   "outputs": [],
   "source": []
  },
  {
   "cell_type": "code",
   "execution_count": null,
   "id": "dcc3c488-4a57-43a4-b8c8-b095fbf18802",
   "metadata": {},
   "outputs": [],
   "source": []
  }
 ],
 "metadata": {
  "kernelspec": {
   "display_name": "Python 3 (ipykernel)",
   "language": "python",
   "name": "python3"
  },
  "language_info": {
   "codemirror_mode": {
    "name": "ipython",
    "version": 3
   },
   "file_extension": ".py",
   "mimetype": "text/x-python",
   "name": "python",
   "nbconvert_exporter": "python",
   "pygments_lexer": "ipython3",
   "version": "3.9.12"
  }
 },
 "nbformat": 4,
 "nbformat_minor": 5
}
