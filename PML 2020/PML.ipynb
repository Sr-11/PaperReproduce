{
 "cells": [
  {
   "cell_type": "code",
   "execution_count": null,
   "id": "9ca82774-7b45-401a-a177-db6946428755",
   "metadata": {},
   "outputs": [],
   "source": [
    "import numpy as np\n",
    "import math\n",
    "import plotly.express as px\n",
    "import pandas as pd\n",
    "import pickle\n",
    "pi = math.pi\n",
    "sqrt = math.sqrt"
   ]
  },
  {
   "cell_type": "code",
   "execution_count": null,
   "id": "287544ed-5372-441e-9d1f-3514c66d8896",
   "metadata": {},
   "outputs": [],
   "source": [
    "import generate_data\n",
    "import algorithm\n",
    "from utils import *\n",
    "from plots import *"
   ]
  },
  {
   "cell_type": "markdown",
   "id": "f6ae28e8-467b-4991-bd8f-90d1426317e8",
   "metadata": {},
   "source": [
    "### 设置参数"
   ]
  },
  {
   "cell_type": "code",
   "execution_count": null,
   "id": "b2cc68bd-82ff-4c93-bf47-8f801541b685",
   "metadata": {},
   "outputs": [],
   "source": [
    "sigma=0.1\n",
    "n_eigenvectors=50\n",
    "n_factors=2\n",
    "eig_crit=delta=0.5\n",
    "sim_crit=gamma=0.85\n",
    "K=0"
   ]
  },
  {
   "cell_type": "markdown",
   "id": "7bf17629-b926-407b-934e-fdbe06343e24",
   "metadata": {},
   "source": [
    "### 生成数据"
   ]
  },
  {
   "cell_type": "code",
   "execution_count": null,
   "id": "05a2e0aa-9178-479e-9e55-480614e4c8fd",
   "metadata": {},
   "outputs": [],
   "source": [
    "data = generate_data.generate_synthetic_data([2 ,3 ,0.1], 10000, 'rectangle3d', noise=0.05)\n",
    "data.shape\n",
    "#data = generate_data.generate_cryo_em_data(1000, 20, 0, 10000, 0)"
   ]
  },
  {
   "cell_type": "code",
   "execution_count": null,
   "id": "65bcdac2-89bd-45df-b66d-cf411206c3f5",
   "metadata": {},
   "outputs": [],
   "source": [
    "df = pd.DataFrame(data, columns=['x','y','z'])\n",
    "range_axes = [-1,4]\n",
    "fig = px.scatter_3d(df, x='x', y='y', z='z',\n",
    "                    range_x=range_axes, range_y=range_axes, range_z=range_axes,\n",
    "                    width=600, height=400)\n",
    "fig.update_traces(marker_size = 1)\n",
    "fig"
   ]
  },
  {
   "cell_type": "markdown",
   "id": "82df7391-31ef-4b19-a188-0849d58becb6",
   "metadata": {},
   "source": [
    "### 距离矩阵"
   ]
  },
  {
   "cell_type": "code",
   "execution_count": null,
   "id": "ed35c087-7b1c-4de7-8ed2-896b99d92522",
   "metadata": {},
   "outputs": [],
   "source": [
    "W = calc_W(data, sigma)\n",
    "W.shape"
   ]
  },
  {
   "cell_type": "markdown",
   "id": "44f67953-9a36-47de-923a-1cf897257014",
   "metadata": {},
   "source": [
    "### 特征向量和特征值"
   ]
  },
  {
   "cell_type": "code",
   "execution_count": null,
   "id": "e7456f7b-bd62-4bda-bcef-0c69f34d9614",
   "metadata": {},
   "outputs": [],
   "source": [
    "phi, Sigma = calc_vars(data, W, sigma, n_eigenvectors)\n",
    "phi.shape, Sigma.shape"
   ]
  },
  {
   "cell_type": "code",
   "execution_count": null,
   "id": "9e01e0e9-5646-4d77-933d-dc75f8f07337",
   "metadata": {},
   "outputs": [],
   "source": [
    "best_matches, best_sims, all_sims = find_combos(phi, Sigma, n_factors, eig_crit, sim_crit)"
   ]
  },
  {
   "cell_type": "code",
   "execution_count": null,
   "id": "3ea1a9a3-9535-4b8d-87c8-78134d337c06",
   "metadata": {},
   "outputs": [],
   "source": [
    "print(best_matches)\n",
    "print(best_sims)"
   ]
  },
  {
   "cell_type": "code",
   "execution_count": null,
   "id": "4115f3c0-6e51-4caf-843e-2f285fc315a7",
   "metadata": {},
   "outputs": [],
   "source": []
  },
  {
   "cell_type": "markdown",
   "id": "f52f4890-4246-412f-abf7-a1870df3e7c9",
   "metadata": {},
   "source": [
    "### 分解"
   ]
  },
  {
   "cell_type": "code",
   "execution_count": null,
   "id": "0a9426fb-d19b-41d2-805b-3a9b7caac03b",
   "metadata": {},
   "outputs": [],
   "source": [
    "labels, C = split_eigenvectors(best_matches, best_sims, n_eigenvectors, K, n_factors)\n",
    "labels.shape, C.shape"
   ]
  },
  {
   "cell_type": "code",
   "execution_count": null,
   "id": "841e254c-a470-43a2-95a0-3136adb911a7",
   "metadata": {},
   "outputs": [],
   "source": [
    "manifolds = []\n",
    "for m in range(n_factors):\n",
    "    manifold = labels[0][np.where(labels[1]==m)[0]]\n",
    "    manifolds.append(manifold)\n",
    "for idx,m in enumerate(manifolds):\n",
    "    if 1 in m:\n",
    "        m1 = manifolds.pop(idx)\n",
    "        manifolds.insert(0, m1)\n",
    "manifolds"
   ]
  },
  {
   "cell_type": "markdown",
   "id": "130fbb2d-2a6a-43e6-8dd5-dbf5979d261d",
   "metadata": {},
   "source": [
    "### 画图"
   ]
  },
  {
   "cell_type": "code",
   "execution_count": null,
   "id": "3c045e16-912b-4e07-82ef-96ad1438c324",
   "metadata": {},
   "outputs": [],
   "source": [
    "df = pd.DataFrame(np.hstack([data,phi]), \n",
    "                  columns=['x','y','z']+['%d-th eigen'%i for i in range(phi.shape[1])])\n",
    "range_axes = [-1,4]\n",
    "i=4\n",
    "print('lambda =',Sigma[i])\n",
    "fig = px.scatter_3d(df, x='x', y='y', z='z', color='%d-th eigen'%i,\n",
    "                    range_x=range_axes, range_y=range_axes, range_z=range_axes,\n",
    "                    width=600, height=400)\n",
    "fig.update_traces(marker_size = 1)\n",
    "fig"
   ]
  },
  {
   "cell_type": "code",
   "execution_count": null,
   "id": "fa638427-4683-4415-8ee5-bd8a8a7cafb0",
   "metadata": {},
   "outputs": [],
   "source": [
    "i = manifolds[0][0]\n",
    "j = manifolds[0][1]\n",
    "df = pd.DataFrame(phi, columns=['%d-th eigen'%i for i in range(phi.shape[1])])\n",
    "fig = px.scatter(df, x='%d-th eigen'%i, y='%d-th eigen'%j, \n",
    "                 width=600, height=400)\n",
    "fig"
   ]
  },
  {
   "cell_type": "code",
   "execution_count": null,
   "id": "02940e65-0698-46e9-9b51-61910c1f7eb3",
   "metadata": {},
   "outputs": [],
   "source": [
    "i = manifolds[1][0]\n",
    "j = manifolds[1][1]\n",
    "df = pd.DataFrame(phi, columns=['%d-th eigen'%i for i in range(phi.shape[1])])\n",
    "fig = px.scatter(df, x='%d-th eigen'%i, y='%d-th eigen'%j, \n",
    "                 width=600, height=400)\n",
    "fig"
   ]
  },
  {
   "cell_type": "code",
   "execution_count": null,
   "id": "7b53e1f1-e6c9-49fc-8074-c6d8aedad07e",
   "metadata": {},
   "outputs": [],
   "source": []
  },
  {
   "cell_type": "code",
   "execution_count": null,
   "id": "860728f8-c96d-4958-b385-eea32ee608ea",
   "metadata": {},
   "outputs": [],
   "source": []
  },
  {
   "cell_type": "code",
   "execution_count": null,
   "id": "7ae642c4-2c1e-4d43-9fcb-b5be176905be",
   "metadata": {},
   "outputs": [],
   "source": []
  },
  {
   "cell_type": "code",
   "execution_count": null,
   "id": "dd93f2c3-4958-4148-a837-6c664080f497",
   "metadata": {},
   "outputs": [],
   "source": []
  },
  {
   "cell_type": "code",
   "execution_count": null,
   "id": "e929ffed-059c-460a-8945-b3f44bbd5cc8",
   "metadata": {},
   "outputs": [],
   "source": []
  }
 ],
 "metadata": {
  "kernelspec": {
   "display_name": "Python 3 (ipykernel)",
   "language": "python",
   "name": "python3"
  },
  "language_info": {
   "codemirror_mode": {
    "name": "ipython",
    "version": 3
   },
   "file_extension": ".py",
   "mimetype": "text/x-python",
   "name": "python",
   "nbconvert_exporter": "python",
   "pygments_lexer": "ipython3",
   "version": "3.9.12"
  }
 },
 "nbformat": 4,
 "nbformat_minor": 5
}
